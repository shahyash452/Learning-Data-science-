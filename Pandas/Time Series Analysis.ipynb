{
 "cells": [
  {
   "cell_type": "code",
   "execution_count": 7,
   "id": "c05e2e9b",
   "metadata": {},
   "outputs": [
    {
     "data": {
      "text/html": [
       "<div>\n",
       "<style scoped>\n",
       "    .dataframe tbody tr th:only-of-type {\n",
       "        vertical-align: middle;\n",
       "    }\n",
       "\n",
       "    .dataframe tbody tr th {\n",
       "        vertical-align: top;\n",
       "    }\n",
       "\n",
       "    .dataframe thead th {\n",
       "        text-align: right;\n",
       "    }\n",
       "</style>\n",
       "<table border=\"1\" class=\"dataframe\">\n",
       "  <thead>\n",
       "    <tr style=\"text-align: right;\">\n",
       "      <th></th>\n",
       "      <th>Open</th>\n",
       "      <th>High</th>\n",
       "      <th>Low</th>\n",
       "      <th>Close</th>\n",
       "      <th>Adj Close</th>\n",
       "      <th>Volume</th>\n",
       "    </tr>\n",
       "    <tr>\n",
       "      <th>Date</th>\n",
       "      <th></th>\n",
       "      <th></th>\n",
       "      <th></th>\n",
       "      <th></th>\n",
       "      <th></th>\n",
       "      <th></th>\n",
       "    </tr>\n",
       "  </thead>\n",
       "  <tbody>\n",
       "    <tr>\n",
       "      <th>2022-12-26</th>\n",
       "      <td>2514.750000</td>\n",
       "      <td>2542.000000</td>\n",
       "      <td>2492.399902</td>\n",
       "      <td>2524.050049</td>\n",
       "      <td>2515.165283</td>\n",
       "      <td>2764496</td>\n",
       "    </tr>\n",
       "    <tr>\n",
       "      <th>2022-12-27</th>\n",
       "      <td>2530.000000</td>\n",
       "      <td>2548.800049</td>\n",
       "      <td>2515.250000</td>\n",
       "      <td>2544.699951</td>\n",
       "      <td>2535.742676</td>\n",
       "      <td>2659749</td>\n",
       "    </tr>\n",
       "    <tr>\n",
       "      <th>2022-12-28</th>\n",
       "      <td>2538.000000</td>\n",
       "      <td>2549.800049</td>\n",
       "      <td>2521.500000</td>\n",
       "      <td>2544.449951</td>\n",
       "      <td>2535.493408</td>\n",
       "      <td>3442509</td>\n",
       "    </tr>\n",
       "    <tr>\n",
       "      <th>2022-12-29</th>\n",
       "      <td>2527.000000</td>\n",
       "      <td>2548.899902</td>\n",
       "      <td>2525.500000</td>\n",
       "      <td>2543.300049</td>\n",
       "      <td>2534.347656</td>\n",
       "      <td>3198493</td>\n",
       "    </tr>\n",
       "    <tr>\n",
       "      <th>2022-12-30</th>\n",
       "      <td>2545.100098</td>\n",
       "      <td>2577.000000</td>\n",
       "      <td>2541.100098</td>\n",
       "      <td>2547.199951</td>\n",
       "      <td>2538.233887</td>\n",
       "      <td>3364092</td>\n",
       "    </tr>\n",
       "  </tbody>\n",
       "</table>\n",
       "</div>"
      ],
      "text/plain": [
       "                   Open         High          Low        Close    Adj Close  \\\n",
       "Date                                                                          \n",
       "2022-12-26  2514.750000  2542.000000  2492.399902  2524.050049  2515.165283   \n",
       "2022-12-27  2530.000000  2548.800049  2515.250000  2544.699951  2535.742676   \n",
       "2022-12-28  2538.000000  2549.800049  2521.500000  2544.449951  2535.493408   \n",
       "2022-12-29  2527.000000  2548.899902  2525.500000  2543.300049  2534.347656   \n",
       "2022-12-30  2545.100098  2577.000000  2541.100098  2547.199951  2538.233887   \n",
       "\n",
       "             Volume  \n",
       "Date                 \n",
       "2022-12-26  2764496  \n",
       "2022-12-27  2659749  \n",
       "2022-12-28  3442509  \n",
       "2022-12-29  3198493  \n",
       "2022-12-30  3364092  "
      ]
     },
     "execution_count": 7,
     "metadata": {},
     "output_type": "execute_result"
    }
   ],
   "source": [
    "import pandas as pd\n",
    "df = pd.read_csv('reliance_share.csv',parse_dates = ['Date'], index_col='Date')\n",
    "df.head()"
   ]
  },
  {
   "cell_type": "code",
   "execution_count": 8,
   "id": "3cff1b3f",
   "metadata": {},
   "outputs": [
    {
     "data": {
      "text/plain": [
       "(247, 6)"
      ]
     },
     "execution_count": 8,
     "metadata": {},
     "output_type": "execute_result"
    }
   ],
   "source": [
    "df.shape"
   ]
  },
  {
   "cell_type": "code",
   "execution_count": 12,
   "id": "b410e71b",
   "metadata": {},
   "outputs": [
    {
     "data": {
      "text/plain": [
       "count      17.000000\n",
       "mean     2483.244141\n",
       "std        58.006587\n",
       "min      2394.300049\n",
       "25%      2437.750000\n",
       "50%      2461.100098\n",
       "75%      2527.149902\n",
       "max      2578.050049\n",
       "Name: Close, dtype: float64"
      ]
     },
     "execution_count": 12,
     "metadata": {},
     "output_type": "execute_result"
    }
   ],
   "source": [
    "df.loc['2023-12'].Close.describe()"
   ]
  },
  {
   "cell_type": "code",
   "execution_count": 14,
   "id": "a3b790c1",
   "metadata": {},
   "outputs": [
    {
     "data": {
      "text/html": [
       "<div>\n",
       "<style scoped>\n",
       "    .dataframe tbody tr th:only-of-type {\n",
       "        vertical-align: middle;\n",
       "    }\n",
       "\n",
       "    .dataframe tbody tr th {\n",
       "        vertical-align: top;\n",
       "    }\n",
       "\n",
       "    .dataframe thead th {\n",
       "        text-align: right;\n",
       "    }\n",
       "</style>\n",
       "<table border=\"1\" class=\"dataframe\">\n",
       "  <thead>\n",
       "    <tr style=\"text-align: right;\">\n",
       "      <th></th>\n",
       "      <th>Open</th>\n",
       "      <th>High</th>\n",
       "      <th>Low</th>\n",
       "      <th>Close</th>\n",
       "      <th>Adj Close</th>\n",
       "      <th>Volume</th>\n",
       "    </tr>\n",
       "    <tr>\n",
       "      <th>Date</th>\n",
       "      <th></th>\n",
       "      <th></th>\n",
       "      <th></th>\n",
       "      <th></th>\n",
       "      <th></th>\n",
       "      <th></th>\n",
       "    </tr>\n",
       "  </thead>\n",
       "  <tbody>\n",
       "    <tr>\n",
       "      <th>2023-11-01</th>\n",
       "      <td>2289.149902</td>\n",
       "      <td>2317.500000</td>\n",
       "      <td>2275.199951</td>\n",
       "      <td>2297.399902</td>\n",
       "      <td>2297.399902</td>\n",
       "      <td>5154595</td>\n",
       "    </tr>\n",
       "    <tr>\n",
       "      <th>2023-11-02</th>\n",
       "      <td>2313.949951</td>\n",
       "      <td>2324.300049</td>\n",
       "      <td>2307.949951</td>\n",
       "      <td>2320.199951</td>\n",
       "      <td>2320.199951</td>\n",
       "      <td>5281052</td>\n",
       "    </tr>\n",
       "    <tr>\n",
       "      <th>2023-11-03</th>\n",
       "      <td>2327.199951</td>\n",
       "      <td>2334.949951</td>\n",
       "      <td>2315.750000</td>\n",
       "      <td>2319.699951</td>\n",
       "      <td>2319.699951</td>\n",
       "      <td>4425078</td>\n",
       "    </tr>\n",
       "    <tr>\n",
       "      <th>2023-11-06</th>\n",
       "      <td>2332.300049</td>\n",
       "      <td>2340.000000</td>\n",
       "      <td>2325.600098</td>\n",
       "      <td>2339.000000</td>\n",
       "      <td>2339.000000</td>\n",
       "      <td>5323652</td>\n",
       "    </tr>\n",
       "    <tr>\n",
       "      <th>2023-11-07</th>\n",
       "      <td>2334.050049</td>\n",
       "      <td>2339.100098</td>\n",
       "      <td>2319.550049</td>\n",
       "      <td>2323.800049</td>\n",
       "      <td>2323.800049</td>\n",
       "      <td>3480102</td>\n",
       "    </tr>\n",
       "    <tr>\n",
       "      <th>2023-11-08</th>\n",
       "      <td>2332.000000</td>\n",
       "      <td>2341.000000</td>\n",
       "      <td>2321.750000</td>\n",
       "      <td>2335.899902</td>\n",
       "      <td>2335.899902</td>\n",
       "      <td>3942247</td>\n",
       "    </tr>\n",
       "    <tr>\n",
       "      <th>2023-11-09</th>\n",
       "      <td>2335.850098</td>\n",
       "      <td>2335.899902</td>\n",
       "      <td>2304.199951</td>\n",
       "      <td>2310.550049</td>\n",
       "      <td>2310.550049</td>\n",
       "      <td>7256805</td>\n",
       "    </tr>\n",
       "    <tr>\n",
       "      <th>2023-11-10</th>\n",
       "      <td>2305.550049</td>\n",
       "      <td>2316.350098</td>\n",
       "      <td>2298.050049</td>\n",
       "      <td>2314.899902</td>\n",
       "      <td>2314.899902</td>\n",
       "      <td>3867477</td>\n",
       "    </tr>\n",
       "    <tr>\n",
       "      <th>2023-11-13</th>\n",
       "      <td>2322.899902</td>\n",
       "      <td>2324.600098</td>\n",
       "      <td>2311.699951</td>\n",
       "      <td>2314.600098</td>\n",
       "      <td>2314.600098</td>\n",
       "      <td>1927405</td>\n",
       "    </tr>\n",
       "    <tr>\n",
       "      <th>2023-11-15</th>\n",
       "      <td>2340.000000</td>\n",
       "      <td>2361.949951</td>\n",
       "      <td>2327.000000</td>\n",
       "      <td>2356.449951</td>\n",
       "      <td>2356.449951</td>\n",
       "      <td>6110324</td>\n",
       "    </tr>\n",
       "  </tbody>\n",
       "</table>\n",
       "</div>"
      ],
      "text/plain": [
       "                   Open         High          Low        Close    Adj Close  \\\n",
       "Date                                                                          \n",
       "2023-11-01  2289.149902  2317.500000  2275.199951  2297.399902  2297.399902   \n",
       "2023-11-02  2313.949951  2324.300049  2307.949951  2320.199951  2320.199951   \n",
       "2023-11-03  2327.199951  2334.949951  2315.750000  2319.699951  2319.699951   \n",
       "2023-11-06  2332.300049  2340.000000  2325.600098  2339.000000  2339.000000   \n",
       "2023-11-07  2334.050049  2339.100098  2319.550049  2323.800049  2323.800049   \n",
       "2023-11-08  2332.000000  2341.000000  2321.750000  2335.899902  2335.899902   \n",
       "2023-11-09  2335.850098  2335.899902  2304.199951  2310.550049  2310.550049   \n",
       "2023-11-10  2305.550049  2316.350098  2298.050049  2314.899902  2314.899902   \n",
       "2023-11-13  2322.899902  2324.600098  2311.699951  2314.600098  2314.600098   \n",
       "2023-11-15  2340.000000  2361.949951  2327.000000  2356.449951  2356.449951   \n",
       "\n",
       "             Volume  \n",
       "Date                 \n",
       "2023-11-01  5154595  \n",
       "2023-11-02  5281052  \n",
       "2023-11-03  4425078  \n",
       "2023-11-06  5323652  \n",
       "2023-11-07  3480102  \n",
       "2023-11-08  3942247  \n",
       "2023-11-09  7256805  \n",
       "2023-11-10  3867477  \n",
       "2023-11-13  1927405  \n",
       "2023-11-15  6110324  "
      ]
     },
     "execution_count": 14,
     "metadata": {},
     "output_type": "execute_result"
    }
   ],
   "source": [
    "df.loc['2023-11' : '2023-12'].head(10)"
   ]
  },
  {
   "cell_type": "code",
   "execution_count": 22,
   "id": "6a2ac6c9",
   "metadata": {},
   "outputs": [
    {
     "data": {
      "text/plain": [
       "<AxesSubplot: xlabel='Date'>"
      ]
     },
     "execution_count": 22,
     "metadata": {},
     "output_type": "execute_result"
    },
    {
     "data": {
      "image/png": "[encoded data removed]",
      "text/plain": [
       "<Figure size 432x288 with 1 Axes>"
      ]
     },
     "metadata": {
      "needs_background": "light"
     },
     "output_type": "display_data"
    }
   ],
   "source": [
    "# %matplotlib inline\n",
    "df.Close.resample('Q').mean().plot(kind='bar')"
   ]
  }
 ],
 "metadata": {
  "kernelspec": {
   "display_name": "Python 3 (ipykernel)",
   "language": "python",
   "name": "python3"
  },
  "language_info": {
   "codemirror_mode": {
    "name": "ipython",
    "version": 3
   },
   "file_extension": ".py",
   "mimetype": "text/x-python",
   "name": "python",
   "nbconvert_exporter": "python",
   "pygments_lexer": "ipython3",
   "version": "3.9.2"
  }
 },
 "nbformat": 4,
 "nbformat_minor": 5
}
